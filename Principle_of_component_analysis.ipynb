{
  "nbformat": 4,
  "nbformat_minor": 0,
  "metadata": {
    "colab": {
      "provenance": [],
      "authorship_tag": "ABX9TyNJY0iOLiafNUrGCtEebsjN",
      "include_colab_link": true
    },
    "kernelspec": {
      "name": "python3",
      "display_name": "Python 3"
    },
    "language_info": {
      "name": "python"
    }
  },
  "cells": [
    {
      "cell_type": "markdown",
      "metadata": {
        "id": "view-in-github",
        "colab_type": "text"
      },
      "source": [
        "<a href=\"https://colab.research.google.com/github/R00psi/demorepo1/blob/main/Principle_of_component_analysis.ipynb\" target=\"_parent\"><img src=\"https://colab.research.google.com/assets/colab-badge.svg\" alt=\"Open In Colab\"/></a>"
      ]
    },
    {
      "cell_type": "code",
      "execution_count": null,
      "metadata": {
        "colab": {
          "base_uri": "https://localhost:8080/"
        },
        "id": "B6ycptNSaE6A",
        "outputId": "24231749-51ce-4fe7-f2e6-f814e1bbbdee"
      },
      "outputs": [
        {
          "output_type": "stream",
          "name": "stdout",
          "text": [
            "   Study Hours  Recreation Hours  Attendance (%)  Assignments Submitted  \\\n",
            "0            5                 2              90                      8   \n",
            "1            3                 4              75                      5   \n",
            "2            4                 3              80                      6   \n",
            "3            6                 1              95                      9   \n",
            "4            5                 2              85                      7   \n",
            "5            2                 5              60                      3   \n",
            "6            3                 4              70                      4   \n",
            "7            4                 3              75                      6   \n",
            "8            5                 2              85                      7   \n",
            "9            6                 1              95                      9   \n",
            "\n",
            "   Sleep Hours  \n",
            "0          7.0  \n",
            "1          6.0  \n",
            "2          6.5  \n",
            "3          8.0  \n",
            "4          7.0  \n",
            "5          5.0  \n",
            "6          5.5  \n",
            "7          6.0  \n",
            "8          7.0  \n",
            "9          8.0  \n"
          ]
        }
      ],
      "source": [
        "import pandas as pd\n",
        "data = {\n",
        "    \"Study Hours\": [5,3,4,6,5,2,3,4,5,6],\n",
        "    \"Recreation Hours\": [2,4,3,1,2,5,4,3,2,1],\n",
        "    \"Attendance (%)\" :[90,75,80,95,85,60,70,75,85,95],\n",
        "    \"Assignments Submitted\":[8,5,6,9,7,3,4,6,7,9],\n",
        "    \"Sleep Hours\" : [7,6,6.5,8,7,5,5.5,6,7,8]\n",
        "}\n",
        "df = pd.DataFrame(data)\n",
        "print(df)"
      ]
    },
    {
      "cell_type": "markdown",
      "source": [
        "Step:2 Standardize the data PCA works better with standardised data to ensure each feature contributes equally\n"
      ],
      "metadata": {
        "id": "qKHP0QR5dPQ3"
      }
    },
    {
      "cell_type": "code",
      "source": [
        "from sklearn.preprocessing import StandardScaler\n",
        "scaler = StandardScaler()\n",
        "scaled_data = scaler.fit_transform(df)\n",
        "print(scaled_data)\n"
      ],
      "metadata": {
        "colab": {
          "base_uri": "https://localhost:8080/"
        },
        "id": "dVtcKJ6tclUG",
        "outputId": "0c9439dd-8148-4b9c-a72f-5b397cd9309a"
      },
      "execution_count": null,
      "outputs": [
        {
          "output_type": "stream",
          "name": "stdout",
          "text": [
            "[[ 0.55167728 -0.55167728  0.84292723  0.83862787  0.42399915]\n",
            " [-1.02454353  1.02454353 -0.56195149 -0.73379939 -0.63599873]\n",
            " [-0.23643312  0.23643312 -0.09365858 -0.20965697 -0.10599979]\n",
            " [ 1.33978769 -1.33978769  1.31122014  1.36277029  1.48399703]\n",
            " [ 0.55167728 -0.55167728  0.37463432  0.31448545  0.42399915]\n",
            " [-1.81265393  1.81265393 -1.9668302  -1.78208422 -1.69599661]\n",
            " [-1.02454353  1.02454353 -1.03024439 -1.2579418  -1.16599767]\n",
            " [-0.23643312  0.23643312 -0.56195149 -0.20965697 -0.63599873]\n",
            " [ 0.55167728 -0.55167728  0.37463432  0.31448545  0.42399915]\n",
            " [ 1.33978769 -1.33978769  1.31122014  1.36277029  1.48399703]]\n"
          ]
        }
      ]
    },
    {
      "cell_type": "markdown",
      "source": [
        "Step 3: Apply PCA"
      ],
      "metadata": {
        "id": "Fn_Gr-lVdpqS"
      }
    },
    {
      "cell_type": "code",
      "source": [
        "from sklearn.decomposition import PCA\n",
        "#Apply PCA to reduce dimensions\n",
        "pca = PCA(n_components=2) #Reduce to 2 principle components\n",
        "pca_result = pca.fit_transform (scaled_data)\n",
        "#Create a DataFrame for PCA results\n",
        "pca_df = pd.DataFrame(pca_result, columns=[\"PC1\",\"PC2\"])\n",
        "print(\"Explained Variance Ratio: \", pca.explained_variance_ratio_)\n",
        "print(pca_df)\n"
      ],
      "metadata": {
        "colab": {
          "base_uri": "https://localhost:8080/"
        },
        "id": "oLX4gYBsdNC8",
        "outputId": "f63e689e-fc20-4816-a348-2886da3ea3a6"
      },
      "execution_count": null,
      "outputs": [
        {
          "output_type": "stream",
          "name": "stdout",
          "text": [
            "Explained Variance Ratio:  [0.98537678 0.00809525]\n",
            "        PC1       PC2\n",
            "0  1.435071  0.158178\n",
            "1 -1.780946  0.431643\n",
            "2 -0.394761  0.128107\n",
            "3  3.057728  0.043591\n",
            "4  0.991423 -0.175429\n",
            "5 -4.056308 -0.044937\n",
            "6 -2.461067 -0.090913\n",
            "7 -0.840291 -0.318402\n",
            "8  0.991423 -0.175429\n",
            "9  3.057728  0.043591\n"
          ]
        }
      ]
    },
    {
      "cell_type": "markdown",
      "source": [
        "Step 4:- Visualize the Results a) Scatter Plot of Principal Components\n"
      ],
      "metadata": {
        "id": "nE9Vq1ccfF2G"
      }
    },
    {
      "cell_type": "code",
      "source": [
        "import matplotlib.pyplot as plt\n",
        "plt.figure(figsize=(8,6))\n",
        "plt.scatter(pca_df[\"PC1\"], pca_df[\"PC2\"],c='blue',edgecolor='k',s=100)\n",
        "plt.xlabel('Principal Component 1')\n",
        "plt.ylabel('Principle Component 2')\n",
        "plt.grid(True)\n",
        "plt.show()"
      ],
      "metadata": {
        "colab": {
          "base_uri": "https://localhost:8080/",
          "height": 542
        },
        "id": "MZCxKwBsfPao",
        "outputId": "22ca7bca-f693-4142-e785-0198044fa9eb"
      },
      "execution_count": null,
      "outputs": [
        {
          "output_type": "display_data",
          "data": {
            "text/plain": [
              "<Figure size 800x600 with 1 Axes>"
            ],
            "image/png": "[encoded data removed]"
          },
          "metadata": {}
        }
      ]
    }
  ]
}